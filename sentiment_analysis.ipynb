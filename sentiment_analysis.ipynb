{
  "cells": [
    {
      "cell_type": "markdown",
      "metadata": {
        "id": "view-in-github",
        "colab_type": "text"
      },
      "source": [
        "<a href=\"https://colab.research.google.com/github/rskrisel/sentiment_analysis_workshop/blob/main/sentiment_analysis.ipynb\" target=\"_parent\"><img src=\"https://colab.research.google.com/assets/colab-badge.svg\" alt=\"Open In Colab\"/></a>"
      ]
    },
    {
      "cell_type": "markdown",
      "id": "84c7730a",
      "metadata": {
        "id": "84c7730a"
      },
      "source": [
        "# Sentiment Analysis\n"
      ]
    },
    {
      "cell_type": "markdown",
      "id": "2a1ce2c4",
      "metadata": {
        "id": "2a1ce2c4"
      },
      "source": [
        "In this lesson, we're going to learn how to use [VADER](https://github.com/cjhutto/vaderSentiment), an English-language sentiment analysis tool designed for use with social media texts. This tool helps to calculate whether texts express positive or negative sentiment.\n",
        "\n",
        "In this lesson, we will learn how to use VADER to:\n",
        "- Calculate sentiment for individual sentences and tweets\n",
        "- Make plots of how sentiment fluctuates over time and throughout a text\n",
        "---"
      ]
    },
    {
      "cell_type": "markdown",
      "id": "a4a5352f",
      "metadata": {
        "id": "a4a5352f"
      },
      "source": [
        "## Acknowledgement\n",
        "\n",
        "The following tutorial is almost entirely copied from Melanie Walsh's [Sentiment Analysis lesson](https://melaniewalsh.github.io/Intro-Cultural-Analytics/05-Text-Analysis/04-Sentiment-Analysis.html). This tutorial differs from Walsh's lesson primarily in the datasets used. Additional steps were added for working with JSON data and web scraping a text file.\n",
        "\n",
        "---"
      ]
    },
    {
      "cell_type": "markdown",
      "id": "32926c67",
      "metadata": {
        "id": "32926c67"
      },
      "source": [
        "## Datasets\n",
        "\n",
        "We are going to analyze tweets related to the Biden Administration's student loan forginess program. You can download the dataset [here](https://drive.google.com/drive/u/0/folders/15MC7UJd5Sz0hSKqY2XsFUbFbAM-t065a).\n",
        "\n",
        "We are also going to analyze President Biden's 2023 State of the Union Address, which we will web scrape from the White House website.\n",
        "\n"
      ]
    },
    {
      "cell_type": "markdown",
      "id": "50b949b1",
      "metadata": {
        "id": "50b949b1"
      },
      "source": [
        "## What is Sentiment? What Exactly Are We Measuring?"
      ]
    },
    {
      "cell_type": "markdown",
      "id": "d01fc4b3",
      "metadata": {
        "id": "d01fc4b3"
      },
      "source": [
        "What is sentiment analysis, exactly? What are we actually measuring with VADER?\n",
        "\n",
        "These are tough and important questions. According to VADER's creators, C.J. Hutto and Eric Gilbert, \"Sentiment analysis, or opinion mining, is an active area of study in the field of natural language processing that analyzes people's **opinions, sentiments, evaluations, attitudes, and emotions** via the computational treatment of subjectivity in text\" ([\"VADER\"](https://www.aaai.org/ocs/index.php/ICWSM/ICWSM14/paper/view/8109/8122)).\n",
        "\n",
        "I would like to emphasize that \"opinions, sentiments, evaluations, attitudes, and emotions\" covers a *lot* of ground. These are complex categories of human experience that can be expressed in many different ways, especially in different contexts. In fact, that's why Hutto and Gilbert designed VADER specifically for *social media* texts, because sentiment gets expressed differently in social media posts than in, say, fictional stories or newspaper articles.\n",
        "\n",
        "We want to remain critical and self-reflexive about what exactly we are measuring with VADER — especially when we apply VADER to non-social media texts, as we will with \"Little Red-Cap\" below. Too often I have encountered well-meaning students who want to understand complex social or textual phenomena (e.g., mental health, a reader's emotional experience of a story, opinions about climate change) by reducing it only to sentiment analysis scores, without doing more and without thinking more deeply about whether those scores actually capture what they're interested in.\n",
        "\n",
        "So, yes, tools like VADER can be useful, as we will see below, but they are only useful when thoughtfully and deliberately applied."
      ]
    },
    {
      "cell_type": "markdown",
      "id": "7a7093d2",
      "metadata": {
        "id": "7a7093d2"
      },
      "source": [
        "## How VADER Was Built and How It Works\n",
        "\n",
        "VADER, which stands for **V**alence **A**ware **D**ictionary and s**E**ntiment **R**easoner, calculates the sentiment of texts by referring to a lexicon of words that have been assigned sentiment scores as well as by using a handful of simple rules.\n",
        "\n",
        "You can read more about how VADER was designed in [C.J. Hutto and Eric Gilbert's published paper](https://www.aaai.org/ocs/index.php/ICWSM/ICWSM14/paper/view/8109/8122), but here's a summary version: VADER's lexicon was created by enlisting 10 different people to rate thousands of words positively or negatively on a scale of -4 to 4 (you can scroll through the [lexicon on GitHub](https://github.com/cjhutto/vaderSentiment/blob/master/vaderSentiment/vader_lexicon.txt) and check it out for yourself — each line consists of a word, the mean rating, standard deviation, and 10 individual human ratings).\n",
        "\n",
        "[![](../images/VADER-fig.png)](https://www.aaai.org/ocs/index.php/ICWSM/ICWSM14/paper/view/8109/8122)\n",
        "\n",
        "*This figure shows the interface presented to the 10 raters for rating the sentiment of words. It is taken from [\"VADER: A Parsimonious Rule-based Model for Sentiment Analysis of Social Media Text.\"](https://www.aaai.org/ocs/index.php/ICWSM/ICWSM14/paper/view/8109/8122)*\n",
        "\n",
        "For example, you can see that the acronym [ROFL](https://github.com/cjhutto/vaderSentiment/blob/d8da3e21374a57201b557a4c91ac4dc411a08fed/vaderSentiment/vader_lexicon.txt#L368) (Rolling on the Floor Laughing) has a mean rating of 2.7, the word [*crappy*](https://github.com/cjhutto/vaderSentiment/blob/d8da3e21374a57201b557a4c91ac4dc411a08fed/vaderSentiment/vader_lexicon.txt#L1622) has a mean rating of -2.5, and the word [*bliss*](https://github.com/cjhutto/vaderSentiment/blob/d8da3e21374a57201b557a4c91ac4dc411a08fed/vaderSentiment/vader_lexicon.txt#L1127) has a mean rating of 2.7. If you look at the 10 individual ratings for each entry, however, you can see interesting discrepancies. One person rated *bliss* as a 4, while another person rated *bliss* as a 1. Just how \"positive\" is the word *bliss*? What do *you* think?\n",
        "\n",
        "What about [*cutesie*](https://github.com/cjhutto/vaderSentiment/blob/d8da3e21374a57201b557a4c91ac4dc411a08fed/vaderSentiment/vader_lexicon.txt#L1721)? It has a mean rating of 1, but two people rated it as a -1, and five people rated as a 2. Is *cutesie* an admiring adjective — \"[She was so cutesie I just had to talk to her](https://www.urbandictionary.com/define.php?term=Cutesie)\" — or a diminutive slight — \"Ugh, her apartment was too cutesie\"?\n",
        "\n",
        "These difficult questions come up repeatedly when you read through the lexicon. Of course, VADER is designed to generalize beyond individual responses and interpretations, and it is not expected to capture the nuances of every single text. At the same time, whenever we use sentiment analysis tools, we want to ask: Does it matter that we're missing out on specific nuances? Is this the best tool for capturing what we're trying to study and understand?\n",
        "\n",
        "In addition to its lexicon, VADER also calculates sentiment by considering 5 relatively simple rules:\n",
        "\n",
        "> 1. If there's punctuation, especially exclamation points, the sentiment intensity should be increased (e.g., \"Mochi ice cream is bliss\" 👍 vs \"Mochi ice cream is bliss!!!\" 👍👍👍 )\n",
        "\n",
        "> 2. If there's capitalization, especially all caps, the sentiment intensity should be increased (e.g., \"Mochi ice cream is bliss\" 👍 vs \"Mochi ice cream is BLISS\" 👍👍👍 )\n",
        "\n",
        "> 3. If there are words like \"extremely\" or \"absolutely\", the sentiment should be increased (\"Mochi ice cream is good\" 👍  vs \"Mochi ice cream is extremely good\" 👍👍👍 )\n",
        "\n",
        "> 4. If there's a \"but\" in a sentence, the polarity of the sentiment should shift, and the sentiment that follows the \"but\" should be prioritized (e.g., \"Mochi ice cream is nice\" 👍 vs \"Mochi ice cream is nice, but it's a little blah\" 👎 )\n",
        "\n",
        "> 5. If there's a negation before an important word, the sentiment polarity should be flipped (\"Mochi ice cream is my favorite\" 👍 vs \"Mochi ice cream is not my favorite\" 👎 )\n",
        "\n",
        "\n",
        "Because VADER uses this lexicon and these simple rules, it works very fast and doesn't require any training or set up, unlike more sophisticated machine learning approaches. The simplicity is both its pro and con."
      ]
    },
    {
      "cell_type": "markdown",
      "id": "32f25780",
      "metadata": {
        "id": "32f25780"
      },
      "source": [
        "## Install and Import Libraries/Packages\n"
      ]
    },
    {
      "cell_type": "markdown",
      "id": "dc33a047",
      "metadata": {
        "id": "dc33a047"
      },
      "source": [
        "So let's explore VADER!\n",
        "\n",
        "To use it, we need to install the [vaderSentiment package](https://github.com/cjhutto/vaderSentiment) with pip."
      ]
    },
    {
      "cell_type": "code",
      "source": [
        "!pip install --upgrade nltk"
      ],
      "metadata": {
        "id": "lZDh41TU96WF"
      },
      "id": "lZDh41TU96WF",
      "execution_count": null,
      "outputs": []
    },
    {
      "cell_type": "code",
      "execution_count": null,
      "id": "ad83e3cc",
      "metadata": {
        "id": "ad83e3cc"
      },
      "outputs": [],
      "source": [
        "!pip install vaderSentiment"
      ]
    },
    {
      "cell_type": "code",
      "execution_count": null,
      "id": "db00b132",
      "metadata": {
        "id": "db00b132"
      },
      "outputs": [],
      "source": [
        "from vaderSentiment.vaderSentiment import SentimentIntensityAnalyzer\n",
        "\n",
        "# Initialize VADER so we can use it later\n",
        "sentimentAnalyser = SentimentIntensityAnalyzer()"
      ]
    },
    {
      "cell_type": "markdown",
      "id": "2e48dddb",
      "metadata": {
        "id": "2e48dddb"
      },
      "source": [
        "We are also going to import pandas for working with data and set the column width for pandas DataFrames to 400."
      ]
    },
    {
      "cell_type": "code",
      "execution_count": null,
      "id": "8ca46ff3",
      "metadata": {
        "id": "8ca46ff3"
      },
      "outputs": [],
      "source": [
        "import pandas as pd\n",
        "pd.options.display.max_colwidth = 400"
      ]
    },
    {
      "cell_type": "markdown",
      "id": "103fb1bb",
      "metadata": {
        "id": "103fb1bb"
      },
      "source": [
        "## Calculate Sentiment Scores"
      ]
    },
    {
      "cell_type": "markdown",
      "id": "d21c8da2",
      "metadata": {
        "id": "d21c8da2"
      },
      "source": [
        "To calculate sentiment scores for a sentence or paragraph, we can use `sentimentAnalyser.polarity_scores()` and input a string of text.\n",
        "\n",
        "This method returns a Python dictionary of sentiment scores: how negative the sentence is between 0-1, how neutral the sentence is between 0-1, how positive the sentence is between 0-1, as well as a compound score between -1-1.\n",
        "\n",
        "Most scholars uses the compound score to represent sentiment in their analyses, and we will use the compound score in this lesson, as well. Let's test it out with some sample sentences!"
      ]
    },
    {
      "cell_type": "code",
      "execution_count": null,
      "id": "aa606080",
      "metadata": {
        "id": "aa606080"
      },
      "outputs": [],
      "source": [
        "sentimentAnalyser.polarity_scores(\"I like the Marvel movies\")"
      ]
    },
    {
      "cell_type": "code",
      "execution_count": null,
      "id": "fdaef570",
      "metadata": {
        "id": "fdaef570"
      },
      "outputs": [],
      "source": [
        "sentimentAnalyser.polarity_scores(\"I don't like the Marvel movies\")"
      ]
    },
    {
      "cell_type": "code",
      "execution_count": null,
      "id": "ef39ff9a",
      "metadata": {
        "id": "ef39ff9a"
      },
      "outputs": [],
      "source": [
        "sentimentAnalyser.polarity_scores(\"I despise the Marvel movies with every fiber of my being\")"
      ]
    },
    {
      "cell_type": "code",
      "execution_count": null,
      "id": "66e47b4d",
      "metadata": {
        "id": "66e47b4d"
      },
      "outputs": [],
      "source": [
        "sentimentAnalyser.polarity_scores(\"I don't *not* like the Marvel movies\")"
      ]
    },
    {
      "cell_type": "markdown",
      "id": "7878b6b5",
      "metadata": {
        "id": "7878b6b5"
      },
      "source": [
        "To make the scores more readable, below we make a list of sentences, loop through the list and calculate the polarity scores for each sentence, then print out each part of the sentiment scores dictionary in a nicely formatted f-string (a string that begins with f and allows you to insert Python variables)."
      ]
    },
    {
      "cell_type": "code",
      "execution_count": null,
      "id": "9eabab94",
      "metadata": {
        "id": "9eabab94"
      },
      "outputs": [],
      "source": [
        "# List of sentences\n",
        "sentences = [\"I like the Marvel movies\",\n",
        "             \"I don't like the Marvel movies\",\n",
        "             \"I despise the Marvel movies with every fiber of my being\",\n",
        "             \"I don't *not* live the Marvel movies\"]\n",
        "\n",
        "# Loop through list of sentences\n",
        "for sentence in sentences:\n",
        "    # Run VADER on each sentence\n",
        "    sentiment_scores = sentimentAnalyser.polarity_scores(sentence)\n",
        "\n",
        "    # Print scores for each sentence\n",
        "    print(f\"\"\"'{sentence}' \\n\n",
        "🙁 Negative Sentiment: {sentiment_scores['neg']} \\n\n",
        "😐 Neutral Sentiment: {sentiment_scores['neu']} \\n\n",
        "😀 Positive Sentiment: {sentiment_scores['pos']} \\n\n",
        "✨ Compound Sentiment: {sentiment_scores['compound']} \\n\n",
        "--- \\n\"\"\")"
      ]
    },
    {
      "cell_type": "markdown",
      "id": "4d6cb7d7",
      "metadata": {
        "id": "4d6cb7d7"
      },
      "source": [
        "We can see moments where VADER is both working and not working in the examples above. VADER registers that \"I like the Marvel movies\" represents the overall most positive sentiment, while \"I don't like the Marvel movies\" is the most negative sentiment, and \"I don't *not* like the Marvel movies\" is negative but not quite as negative as a straight up \"don't like.\"\n",
        "\n",
        "However, VADER does not capture that \"I despise the Marvel movies with every fiber of my being\" should be the *most* negative sentiment of the bunch. In fact, VADER scores this sentence in the mildly positive range. This example should remind us that VADER typically works best when it is used in aggregate and applied to many examples, such that specific nuances and exceptions like these matter less and come out in the wash."
      ]
    },
    {
      "cell_type": "markdown",
      "id": "a4216d5c",
      "metadata": {
        "id": "a4216d5c"
      },
      "source": [
        "## Calculating Sentiment Scores: Student Debt Relief related tweets"
      ]
    },
    {
      "cell_type": "markdown",
      "id": "e4163374",
      "metadata": {
        "id": "e4163374"
      },
      "source": [
        "Let's try using VADER on tweets related to the Biden Administration's student loan forginess program. You can download the dataset [here](https://drive.google.com/drive/u/0/folders/15MC7UJd5Sz0hSKqY2XsFUbFbAM-t065a) and save it in your Google Drive. Next, store the path to the csv file in a variable."
      ]
    },
    {
      "cell_type": "code",
      "source": [
        "from google.colab import drive\n",
        "drive.mount('/content/drive')"
      ],
      "metadata": {
        "id": "WqUDRBoc-9aW"
      },
      "id": "WqUDRBoc-9aW",
      "execution_count": null,
      "outputs": []
    },
    {
      "cell_type": "code",
      "source": [
        "dataset = '/content/drive/MyDrive/sentiment_analysis/student_loan_json.jsonl' #replace with your path"
      ],
      "metadata": {
        "id": "Y_3ZHWVU--8l"
      },
      "id": "Y_3ZHWVU--8l",
      "execution_count": null,
      "outputs": []
    },
    {
      "cell_type": "markdown",
      "id": "49c571de",
      "metadata": {
        "id": "49c571de"
      },
      "source": [
        "### Load the dataset"
      ]
    },
    {
      "cell_type": "markdown",
      "id": "a9fb8b6f",
      "metadata": {
        "id": "a9fb8b6f"
      },
      "source": [
        "We will load the Student Debt Relief JSON file with pandas and drop some of the columns that we don't need."
      ]
    },
    {
      "cell_type": "code",
      "execution_count": null,
      "id": "107fdc07",
      "metadata": {
        "id": "107fdc07"
      },
      "outputs": [],
      "source": [
        "tweets_df = pd.read_json(dataset, orient='split', convert_dates = True,\n",
        "                       keep_default_dates = ['created_at'])"
      ]
    },
    {
      "cell_type": "code",
      "execution_count": null,
      "id": "7d1ad02c",
      "metadata": {
        "id": "7d1ad02c"
      },
      "outputs": [],
      "source": [
        "tweets_df.rename(columns={'created_at': 'date',\n",
        "                          'public_metrics.retweet_count': 'retweets'},\n",
        "                            inplace=True)"
      ]
    },
    {
      "cell_type": "code",
      "execution_count": null,
      "id": "4c3a6bb8",
      "metadata": {
        "id": "4c3a6bb8"
      },
      "outputs": [],
      "source": [
        "tweets_df = tweets_df[['date', 'text', 'retweets']]"
      ]
    },
    {
      "cell_type": "code",
      "execution_count": null,
      "id": "d79c9cec",
      "metadata": {
        "id": "d79c9cec"
      },
      "outputs": [],
      "source": [
        "tweets_df"
      ]
    },
    {
      "cell_type": "markdown",
      "id": "13422b92",
      "metadata": {
        "id": "13422b92"
      },
      "source": [
        "### Calculate Sentiment for All Rows in a Dataframe"
      ]
    },
    {
      "cell_type": "markdown",
      "id": "031471dd",
      "metadata": {
        "id": "031471dd"
      },
      "source": [
        "To calculate the sentiment for each tweet in the dataframe and add a new column that contains this information, we will create a function that will take in any text and output the compound sentiment score."
      ]
    },
    {
      "cell_type": "code",
      "execution_count": null,
      "id": "35bfb3be",
      "metadata": {
        "id": "35bfb3be"
      },
      "outputs": [],
      "source": [
        "def calculate_sentiment(text):\n",
        "    # Run VADER on the text\n",
        "    scores = sentimentAnalyser.polarity_scores(text)\n",
        "    # Extract the compound score\n",
        "    compound_score = scores['compound']\n",
        "    # Return compound score\n",
        "    return compound_score"
      ]
    },
    {
      "cell_type": "markdown",
      "id": "dc1c6c0f",
      "metadata": {
        "id": "dc1c6c0f"
      },
      "source": [
        "Let's test it out!"
      ]
    },
    {
      "cell_type": "code",
      "execution_count": null,
      "id": "b3800dea",
      "metadata": {
        "id": "b3800dea"
      },
      "outputs": [],
      "source": [
        "calculate_sentiment('I like the Marvel movies')"
      ]
    },
    {
      "cell_type": "markdown",
      "id": "c85425f9",
      "metadata": {
        "id": "c85425f9"
      },
      "source": [
        "Nice, it works! Now we can apply it to every row in the dataframe with the `.apply()` method. In the same line of code, we are making new column \"sentiment_score\", where we are outputting our results."
      ]
    },
    {
      "cell_type": "code",
      "execution_count": null,
      "id": "d4115661",
      "metadata": {
        "id": "d4115661"
      },
      "outputs": [],
      "source": [
        "# Apply the function to every row in the \"text\" column and output the results into a new column \"sentiment_score\"\n",
        "tweets_df['sentiment_score'] = tweets_df['text'].apply(calculate_sentiment)"
      ]
    },
    {
      "cell_type": "markdown",
      "id": "27db194c",
      "metadata": {
        "id": "27db194c"
      },
      "source": [
        "Let's sort the DataFrame and examine the top 10 tweets with the highest compound sentiment."
      ]
    },
    {
      "cell_type": "code",
      "execution_count": null,
      "id": "7bd6c51f",
      "metadata": {
        "id": "7bd6c51f"
      },
      "outputs": [],
      "source": [
        "tweets_df.sort_values(by='sentiment_score', ascending=False)[:10]"
      ]
    },
    {
      "cell_type": "markdown",
      "id": "9c95c442",
      "metadata": {
        "id": "9c95c442"
      },
      "source": [
        "Let's sort the DataFrame and examine the 10 tweets with the lowest compound sentiment."
      ]
    },
    {
      "cell_type": "code",
      "execution_count": null,
      "id": "3ec9833b",
      "metadata": {
        "id": "3ec9833b"
      },
      "outputs": [],
      "source": [
        "tweets_df.sort_values(by='sentiment_score', ascending=True)[:10]"
      ]
    },
    {
      "cell_type": "markdown",
      "id": "95f82e07",
      "metadata": {
        "id": "95f82e07"
      },
      "source": [
        "### Plot Sentiment Over Time"
      ]
    },
    {
      "cell_type": "markdown",
      "id": "c5b334a0",
      "metadata": {
        "id": "c5b334a0"
      },
      "source": [
        "We can plot how the sentiment pf student debt relief tweets fluctuates over time by first converting the date column to a datetime value and then making it the index of the DataFrame, which makes it easier to work with time series data."
      ]
    },
    {
      "cell_type": "code",
      "execution_count": null,
      "id": "a241d764",
      "metadata": {
        "id": "a241d764"
      },
      "outputs": [],
      "source": [
        "tweets_df['date'] = pd.to_datetime(tweets_df['date'])\n",
        "\n",
        "# Make date the index of the DataFrame\n",
        "tweets_df = tweets_df.set_index('date')\n",
        "\n",
        "# Sort the index to ensure it's monotonic\n",
        "tweets_df = tweets_df.sort_index()"
      ]
    },
    {
      "cell_type": "code",
      "execution_count": null,
      "id": "e5492fce",
      "metadata": {
        "id": "e5492fce"
      },
      "outputs": [],
      "source": [
        "tweets_df.head(2)"
      ]
    },
    {
      "cell_type": "markdown",
      "id": "a1cb1405",
      "metadata": {
        "id": "a1cb1405"
      },
      "source": [
        "Then we will group the tweets by month using `.resample()`, a special method for datetime indices, and calculate the average (`.mean()`) compound score for each month. Finally, we will plot these averages."
      ]
    },
    {
      "cell_type": "code",
      "execution_count": null,
      "id": "84c8a0f3",
      "metadata": {
        "id": "84c8a0f3"
      },
      "outputs": [],
      "source": [
        "tweets_df.resample('M')['sentiment_score'].mean().plot(\n",
        "    title=\"Student Debt Relief Tweet Sentiment by Month\");"
      ]
    },
    {
      "cell_type": "markdown",
      "id": "b3d2ad30",
      "metadata": {
        "id": "b3d2ad30"
      },
      "source": [
        "We can also `.resample()` by day ('D'), week ('W'), or year ('Y')."
      ]
    },
    {
      "cell_type": "code",
      "execution_count": null,
      "id": "643532cb",
      "metadata": {
        "id": "643532cb"
      },
      "outputs": [],
      "source": [
        "tweets_df.resample('W')['sentiment_score'].mean().plot(\n",
        "    title=\"Student Debt Relief Tweet Sentiment by Week\");"
      ]
    },
    {
      "cell_type": "code",
      "execution_count": null,
      "id": "f05066dc",
      "metadata": {
        "id": "f05066dc"
      },
      "outputs": [],
      "source": [
        "tweets_df.resample('D')['sentiment_score'].mean().plot(\n",
        "    title=\"Student Debt Relief Tweet Sentiment by Day\");"
      ]
    },
    {
      "cell_type": "markdown",
      "id": "425fb2cd",
      "metadata": {
        "id": "425fb2cd"
      },
      "source": [
        "Looks like there's a dip at the end of December. By using `.loc`, we can also zoom in on particular time periods. Let's take a closer look!"
      ]
    },
    {
      "cell_type": "code",
      "execution_count": null,
      "id": "0c70a5c6",
      "metadata": {
        "id": "0c70a5c6"
      },
      "outputs": [],
      "source": [
        "tweets_df.loc[\"2022-12-01\":\"2023-01-01\"].resample('D')['sentiment_score'].mean().plot(\n",
        "    title=\"Student Debt Relief Tweet Sentiment by Day\");"
      ]
    },
    {
      "cell_type": "code",
      "execution_count": null,
      "id": "03cba320",
      "metadata": {
        "id": "03cba320"
      },
      "outputs": [],
      "source": [
        "tweets_df.loc[\"12/1/2022\":\"1/1/2023\"].sort_values(by='sentiment_score')[:10]"
      ]
    },
    {
      "cell_type": "markdown",
      "id": "76e5d782",
      "metadata": {
        "id": "76e5d782"
      },
      "source": [
        "## Calculate Sentiment Scores for a State of the Union Address"
      ]
    },
    {
      "cell_type": "markdown",
      "id": "7c064007",
      "metadata": {
        "id": "7c064007"
      },
      "source": [
        "In this section, we are going to calculate sentiment scores for President Biden's 2023 State of the Union Address."
      ]
    },
    {
      "cell_type": "markdown",
      "id": "9fccaefd",
      "metadata": {
        "id": "9fccaefd"
      },
      "source": [
        "First, we need use web scraping tools to collect the transcript from the 2023 State of the Union Address. This White House [URL](https://www.whitehouse.gov/briefing-room/speeches-remarks/2023/02/07/remarks-of-president-joe-biden-state-of-the-union-address-as-prepared-for-delivery/) contains the complete transcript."
      ]
    },
    {
      "cell_type": "markdown",
      "id": "33d818df",
      "metadata": {
        "id": "33d818df"
      },
      "source": [
        "To start, we need to bring in our \"requests\" library into our Python environment and next we can make our data request using the URL:"
      ]
    },
    {
      "cell_type": "code",
      "execution_count": null,
      "id": "0d7bbdc7",
      "metadata": {
        "id": "0d7bbdc7"
      },
      "outputs": [],
      "source": [
        "import requests"
      ]
    },
    {
      "cell_type": "code",
      "execution_count": null,
      "id": "0d6bbd89",
      "metadata": {
        "id": "0d6bbd89"
      },
      "outputs": [],
      "source": [
        "response = requests.get(\"https://www.whitehouse.gov/briefing-room/speeches-remarks/2023/02/07/remarks-of-president-joe-biden-state-of-the-union-address-as-prepared-for-delivery/\")"
      ]
    },
    {
      "cell_type": "markdown",
      "id": "c6bd0011",
      "metadata": {
        "id": "c6bd0011"
      },
      "source": [
        "Next, we can check to see whether or not the request was successful:"
      ]
    },
    {
      "cell_type": "code",
      "execution_count": null,
      "id": "ae2287dd",
      "metadata": {
        "id": "ae2287dd"
      },
      "outputs": [],
      "source": [
        "response"
      ]
    },
    {
      "cell_type": "markdown",
      "id": "32adbdaf",
      "metadata": {
        "id": "32adbdaf"
      },
      "source": [
        "In order to get the text data from the response we need to apply the .text method, and we can save the results in a new varibale hltm_string. The results from the data request will be in [HTML format](https://www.udacity.com/blog/2021/04/html-for-dummies.html)."
      ]
    },
    {
      "cell_type": "code",
      "execution_count": null,
      "id": "16a9955d",
      "metadata": {
        "id": "16a9955d"
      },
      "outputs": [],
      "source": [
        "html_string = response.text\n",
        "print(html_string)"
      ]
    },
    {
      "cell_type": "markdown",
      "id": "2dcbe20b",
      "metadata": {
        "id": "2dcbe20b"
      },
      "source": [
        "Let's bring in our [BeautifulSoup](https://www.crummy.com/software/BeautifulSoup/bs4/doc/) Python library to help us clean up and decode this HTML text data:"
      ]
    },
    {
      "cell_type": "code",
      "execution_count": null,
      "id": "c3ac31fa",
      "metadata": {
        "id": "c3ac31fa"
      },
      "outputs": [],
      "source": [
        "from bs4 import BeautifulSoup"
      ]
    },
    {
      "cell_type": "markdown",
      "id": "d7e19777",
      "metadata": {
        "id": "d7e19777"
      },
      "source": [
        "Let's run our html_string variable through the Beautiful Soup object and use the get_text() function to extract the text from the HTML data. Then, let's use the print function to visualize our results:"
      ]
    },
    {
      "cell_type": "code",
      "execution_count": null,
      "id": "37c31116",
      "metadata": {
        "id": "37c31116"
      },
      "outputs": [],
      "source": [
        "soup = BeautifulSoup(html_string)\n",
        "speech = soup.get_text()\n",
        "print(speech)"
      ]
    },
    {
      "cell_type": "markdown",
      "id": "8dc87307",
      "metadata": {
        "id": "8dc87307"
      },
      "source": [
        "Let's save our results in a text file:"
      ]
    },
    {
      "cell_type": "code",
      "execution_count": null,
      "id": "1a3c5300",
      "metadata": {
        "id": "1a3c5300"
      },
      "outputs": [],
      "source": [
        "with open(\"2023_union.txt\",\"w\") as file:\n",
        "    file.write(speech)"
      ]
    },
    {
      "cell_type": "markdown",
      "id": "f0f6d958",
      "metadata": {
        "id": "f0f6d958"
      },
      "source": [
        "Next, let's read in the text file and also replace line breaks with spaces to because there are line breaks in the middle of sentences."
      ]
    },
    {
      "cell_type": "code",
      "execution_count": null,
      "id": "722cf4fd",
      "metadata": {
        "id": "722cf4fd"
      },
      "outputs": [],
      "source": [
        "# Read in text file\n",
        "text = open(\"2023_union.txt\").read()\n",
        "# Replace line breaks with spaces\n",
        "text = text.replace('\\n', ' ')"
      ]
    },
    {
      "cell_type": "markdown",
      "id": "cd11859e",
      "metadata": {
        "id": "cd11859e"
      },
      "source": [
        "### Import NLTK\n",
        "\n",
        "Next we need to break the text into sentences.\n",
        "\n",
        "An easy way to break text into sentences, or to \"tokenize\" them into sentences, is to use [NLTK](https://www.nltk.org/), a Python library for text analysis natural language processing.\n",
        "\n",
        "Let's import nltk and download the model that will help us get sentences."
      ]
    },
    {
      "cell_type": "code",
      "execution_count": null,
      "id": "c3ba8f9b",
      "metadata": {
        "id": "c3ba8f9b"
      },
      "outputs": [],
      "source": [
        "import nltk\n",
        "nltk.download('punkt_tab')\n",
        "nltk.download('averaged_perceptron_tagger_eng')"
      ]
    },
    {
      "cell_type": "markdown",
      "id": "067d1282",
      "metadata": {
        "id": "067d1282"
      },
      "source": [
        "To break a string into individual sentences, we can use `nltk.sent_tokenize()`"
      ]
    },
    {
      "cell_type": "code",
      "execution_count": null,
      "id": "afcac959",
      "metadata": {
        "id": "afcac959"
      },
      "outputs": [],
      "source": [
        "nltk.sent_tokenize(text)"
      ]
    },
    {
      "cell_type": "markdown",
      "id": "398812e1",
      "metadata": {
        "id": "398812e1"
      },
      "source": [
        "To get sentence numbers for each sentence, we can use `enumerate()`."
      ]
    },
    {
      "cell_type": "code",
      "execution_count": null,
      "id": "fca7519d",
      "metadata": {
        "id": "fca7519d"
      },
      "outputs": [],
      "source": [
        "for number, sentence in enumerate(nltk.sent_tokenize(text)):\n",
        "    print(number, sentence)"
      ]
    },
    {
      "cell_type": "markdown",
      "id": "5e505e62",
      "metadata": {
        "id": "5e505e62"
      },
      "source": [
        "### Make DataFrame"
      ]
    },
    {
      "cell_type": "markdown",
      "id": "0e9ba43b",
      "metadata": {
        "id": "0e9ba43b"
      },
      "source": [
        "For convenience, we can put all of the sentences into a pandas DataFrame. One easy way to make a DataFrame is to first make a list of dictionaries.\n",
        "\n",
        "Below we loop through the sentences, calculate sentiment scores, and then create a dictionary with the sentence, sentence number, and compound score, which we append to the list `sentence_scores`."
      ]
    },
    {
      "cell_type": "code",
      "execution_count": null,
      "id": "1e7af7ff",
      "metadata": {
        "id": "1e7af7ff"
      },
      "outputs": [],
      "source": [
        "# Break text into sentences\n",
        "sentences = nltk.sent_tokenize(text)\n",
        "\n",
        "# Make empty list\n",
        "sentence_scores = []\n",
        "# Get each sentence and sentence number, which is what enumerate does\n",
        "for number, sentence in enumerate(sentences):\n",
        "    # Use VADER to calculate sentiment\n",
        "    scores = sentimentAnalyser.polarity_scores(sentence)\n",
        "    # Make dictionary and append it to the previously empty list\n",
        "    sentence_scores.append({'sentence': sentence, 'sentence_number': number+1, 'sentiment_score': scores['compound']})"
      ]
    },
    {
      "cell_type": "markdown",
      "id": "9865c034",
      "metadata": {
        "id": "9865c034"
      },
      "source": [
        "To make this list of dictionaries into a DataFrame, we can simply use `pd.DataFrame()`"
      ]
    },
    {
      "cell_type": "code",
      "execution_count": null,
      "id": "a44e9a28",
      "metadata": {
        "id": "a44e9a28"
      },
      "outputs": [],
      "source": [
        "pd.DataFrame(sentence_scores)"
      ]
    },
    {
      "cell_type": "markdown",
      "id": "9ebba271",
      "metadata": {
        "id": "9ebba271"
      },
      "source": [
        "Let's examine the 10 most negative sentences."
      ]
    },
    {
      "cell_type": "code",
      "execution_count": null,
      "id": "9c096b11",
      "metadata": {
        "id": "9c096b11"
      },
      "outputs": [],
      "source": [
        "# Assign DataFrame to variable red_df\n",
        "speech_df = pd.DataFrame(sentence_scores)\n",
        "\n",
        "# Sort by the column \"sentiment_score\" and slice for first 10 values\n",
        "speech_df.sort_values(by='sentiment_score')[:10]"
      ]
    },
    {
      "cell_type": "markdown",
      "id": "be6c20a8",
      "metadata": {
        "id": "be6c20a8"
      },
      "source": [
        "Let's examine the 10 most positive sentences."
      ]
    },
    {
      "cell_type": "code",
      "execution_count": null,
      "id": "d5da6adc",
      "metadata": {
        "id": "d5da6adc"
      },
      "outputs": [],
      "source": [
        "# Sort by the column \"sentiment_score,\" this time in descending order, and slice for first 10 values\n",
        "speech_df.sort_values(by='sentiment_score', ascending=False)[:10]"
      ]
    },
    {
      "cell_type": "markdown",
      "id": "012fecf1",
      "metadata": {
        "id": "012fecf1"
      },
      "source": [
        "### Make a Sentiment Plot"
      ]
    },
    {
      "cell_type": "markdown",
      "id": "3a0cfe52",
      "metadata": {
        "id": "3a0cfe52"
      },
      "source": [
        "To create a data visualization of sentiment over the course of the 2023 State of the Union Address we can plot the sentiment scores over story time (aka sentence number)."
      ]
    },
    {
      "cell_type": "code",
      "execution_count": null,
      "id": "274038af",
      "metadata": {
        "id": "274038af"
      },
      "outputs": [],
      "source": [
        "import plotly.express as px"
      ]
    },
    {
      "cell_type": "code",
      "execution_count": null,
      "id": "a522c275",
      "metadata": {
        "id": "a522c275"
      },
      "outputs": [],
      "source": [
        "fig = px.line(speech_df, x='sentence_number', y=\"sentiment_score\",\n",
        "             title= \"Sentiment Analysis of 2023 State of the Union Address\")\n",
        "fig.show()"
      ]
    },
    {
      "cell_type": "markdown",
      "id": "92f6bd35",
      "metadata": {
        "id": "92f6bd35"
      },
      "source": [
        "We can also get a more generalized view by getting a \"rolling average\" 5 sentences at a time by using the `.rolling()` method with a specified window and storing the results in a new column \"speech_roll\":"
      ]
    },
    {
      "cell_type": "code",
      "execution_count": null,
      "id": "3d0453b6",
      "metadata": {
        "id": "3d0453b6"
      },
      "outputs": [],
      "source": [
        "speech_df['speech_roll'] = speech_df.rolling(5)['sentiment_score'].mean()"
      ]
    },
    {
      "cell_type": "code",
      "execution_count": null,
      "id": "c815c586",
      "metadata": {
        "id": "c815c586"
      },
      "outputs": [],
      "source": [
        "speech_df[:25]"
      ]
    },
    {
      "cell_type": "code",
      "execution_count": null,
      "id": "51660730",
      "metadata": {
        "id": "51660730"
      },
      "outputs": [],
      "source": [
        "fig = px.line(speech_df, x='sentence_number', y=\"speech_roll\",\n",
        "             title= \"Sentiment Analysis of 2023 State of the Union Address\")\n",
        "fig.show()"
      ]
    },
    {
      "cell_type": "code",
      "execution_count": null,
      "id": "6a94c515",
      "metadata": {
        "id": "6a94c515"
      },
      "outputs": [],
      "source": []
    }
  ],
  "metadata": {
    "kernelspec": {
      "display_name": "Python 3 (ipykernel)",
      "language": "python",
      "name": "python3"
    },
    "language_info": {
      "codemirror_mode": {
        "name": "ipython",
        "version": 3
      },
      "file_extension": ".py",
      "mimetype": "text/x-python",
      "name": "python",
      "nbconvert_exporter": "python",
      "pygments_lexer": "ipython3",
      "version": "3.9.13"
    },
    "colab": {
      "provenance": [],
      "include_colab_link": true
    }
  },
  "nbformat": 4,
  "nbformat_minor": 5
}